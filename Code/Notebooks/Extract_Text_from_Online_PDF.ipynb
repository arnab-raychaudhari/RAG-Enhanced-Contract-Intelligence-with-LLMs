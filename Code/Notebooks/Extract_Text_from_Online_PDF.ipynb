{
 "cells": [
  {
   "cell_type": "markdown",
   "metadata": {},
   "source": [
    "**PROGRAM OVERVIEW**"
   ]
  },
  {
   "cell_type": "markdown",
   "metadata": {},
   "source": [
    "Use this program to perform the following steps in sequence:\n",
    "\n",
    "1. **Download** a PDF from the web.\n",
    "2. **Extract text** from downloaded PDF and **save** the content to a text file.\n",
    "\n",
    "Activate the last code cell in this program if you are working with a manually downloaded PDF and need to extract its content and save it to a text file."
   ]
  },
  {
   "cell_type": "markdown",
   "metadata": {},
   "source": [
    "**LIBRARIES AND PACKAGES**"
   ]
  },
  {
   "cell_type": "code",
   "execution_count": null,
   "metadata": {},
   "outputs": [],
   "source": [
    "import os\n",
    "import requests # type: ignore\n",
    "from PyPDF2 import PdfReader # type: ignore\n",
    "from datetime import datetime"
   ]
  },
  {
   "cell_type": "markdown",
   "metadata": {},
   "source": [
    "Set the **PDF URL** as per your requirement"
   ]
  },
  {
   "cell_type": "code",
   "execution_count": null,
   "metadata": {},
   "outputs": [],
   "source": [
    "# Placeholder for the PDF URL (edit as needed)\n",
    "# pdf_url = \"https://www.gao.gov/assets/gao-24-106732.pdf\""
   ]
  },
  {
   "cell_type": "markdown",
   "metadata": {},
   "source": [
    "Capture the current system date and time"
   ]
  },
  {
   "cell_type": "code",
   "execution_count": null,
   "metadata": {},
   "outputs": [],
   "source": [
    "# Get the current date and time for timestamping\n",
    "current_datetime = datetime.now().strftime('%Y%m%d_%H%M%S')"
   ]
  },
  {
   "cell_type": "markdown",
   "metadata": {},
   "source": [
    "Create a new directory to save the downloaded PDF and also to create the consolidated text file"
   ]
  },
  {
   "cell_type": "code",
   "execution_count": null,
   "metadata": {},
   "outputs": [],
   "source": [
    "# Create a new folder with a timestamp\n",
    "prefix = \"GAO_DOWNLOAD\" #change the prefix as per the application domain of your interest\n",
    "folder_name = f\"{prefix}_{current_datetime}\"\n",
    "os.makedirs(folder_name, exist_ok=True)"
   ]
  },
  {
   "cell_type": "markdown",
   "metadata": {},
   "source": [
    "Define the file name for the downloaded PDF"
   ]
  },
  {
   "cell_type": "code",
   "execution_count": null,
   "metadata": {},
   "outputs": [],
   "source": [
    "# Set the PDF file name with timestamp\n",
    "file_prefix = \"GAO_PDF\" #change the prefix as per your requirement\n",
    "pdf_file_name = f\"{file_prefix}_{current_datetime}.pdf\"\n",
    "pdf_file_path = os.path.join(folder_name, pdf_file_name)"
   ]
  },
  {
   "cell_type": "markdown",
   "metadata": {},
   "source": [
    "Now that the download folder and file names are set, go ahead an download the pdf file"
   ]
  },
  {
   "cell_type": "code",
   "execution_count": null,
   "metadata": {},
   "outputs": [
    {
     "name": "stdout",
     "output_type": "stream",
     "text": [
      "Failed to download PDF. Status Code: 403\n"
     ]
    }
   ],
   "source": [
    "# Download the PDF from the provided URL\n",
    "try:\n",
    "    pdf_response = requests.get(pdf_url)\n",
    "    if pdf_response.status_code == 200:\n",
    "        # Save the PDF to the folder\n",
    "        with open(pdf_file_path, 'wb') as pdf_file:\n",
    "            pdf_file.write(pdf_response.content)\n",
    "        print(f\"Downloaded PDF saved as: {pdf_file_path}\")\n",
    "    else:\n",
    "        print(f\"Failed to download PDF. Status Code: {pdf_response.status_code}\")\n",
    "        exit(1)\n",
    "except Exception as e:\n",
    "    print(f\"Error downloading PDF: {e}\")\n",
    "    exit(1)"
   ]
  },
  {
   "cell_type": "markdown",
   "metadata": {},
   "source": [
    "Now that the PDF is downloaded, extraxt the text and write to a text file"
   ]
  },
  {
   "cell_type": "code",
   "execution_count": null,
   "metadata": {},
   "outputs": [
    {
     "name": "stdout",
     "output_type": "stream",
     "text": [
      "Error extracting text from PDF: [Errno 2] No such file or directory: 'Farm_Bill_DOWNLOAD_20241107_202042/Farm_Bill_PDF_20241107_202042.pdf'\n"
     ]
    }
   ],
   "source": [
    "# Extract text from the downloaded PDF\n",
    "pref_txt_file = \"GAO_Consolidated\" #change as per your requirement\n",
    "text_file_name = f\"{pref_txt_file}_{current_datetime}.txt\"\n",
    "text_file_path = os.path.join(folder_name, text_file_name)\n",
    "\n",
    "try:\n",
    "    with open(pdf_file_path, 'rb') as file:\n",
    "        reader = PdfReader(file)\n",
    "        with open(text_file_path, 'w') as text_file:\n",
    "            for page_num, page in enumerate(reader.pages):\n",
    "                text = page.extract_text()\n",
    "                if text:  # Only write if text was extracted\n",
    "                    text_file.write(f\"\\n\\n[Extract from {pdf_file_name} - Page {page_num + 1}]\\n\")\n",
    "                    text_file.write(text)\n",
    "    print(f\"Text extracted from PDF and saved as: {text_file_path}\")\n",
    "except Exception as e:\n",
    "    print(f\"Error extracting text from PDF: {e}\")"
   ]
  },
  {
   "cell_type": "markdown",
   "metadata": {},
   "source": [
    "Manually downloaded the Farm Bill from - https://crsreports.congress.gov/product/pdf/R/R48167, and used as an input to the following piece of code"
   ]
  },
  {
   "cell_type": "code",
   "execution_count": null,
   "metadata": {},
   "outputs": [
    {
     "name": "stdout",
     "output_type": "stream",
     "text": [
      "Text extracted from PDF and saved as: /Users/arnabraychaudhari/Documents/6317/Project_LLM_and_RAG_2024_GWU/Farm_Bill_DOWNLOAD_20241107_202042/Farm_Bill_R48167.txt\n"
     ]
    }
   ],
   "source": [
    "# Enable and change the directories as per your requirement\n",
    "#pdf_file_path = \"/Users/arnabraychaudhari/Documents/6317/Project_LLM_and_RAG_2024_GWU/Farm_Bill_DOWNLOAD_20241107_202042/R48167.pdf\"\n",
    "#text_file_path = \"/Users/arnabraychaudhari/Documents/6317/Project_LLM_and_RAG_2024_GWU/Farm_Bill_DOWNLOAD_20241107_202042/Farm_Bill_R48167.txt\"\n",
    "\n",
    "try:\n",
    "    with open(pdf_file_path, 'rb') as file:\n",
    "        reader = PdfReader(file)\n",
    "        with open(text_file_path, 'w') as text_file:\n",
    "            for page_num, page in enumerate(reader.pages):\n",
    "                text = page.extract_text()\n",
    "                if text:  # Only write if text was extracted\n",
    "                    text_file.write(f\"\\n\\n[Extract from {pdf_file_name} - Page {page_num + 1}]\\n\")\n",
    "                    text_file.write(text)\n",
    "    print(f\"Text extracted from PDF and saved as: {text_file_path}\")\n",
    "except Exception as e:\n",
    "    print(f\"Error extracting text from PDF: {e}\")"
   ]
  }
 ],
 "metadata": {
  "kernelspec": {
   "display_name": "base",
   "language": "python",
   "name": "python3"
  },
  "language_info": {
   "codemirror_mode": {
    "name": "ipython",
    "version": 3
   },
   "file_extension": ".py",
   "mimetype": "text/x-python",
   "name": "python",
   "nbconvert_exporter": "python",
   "pygments_lexer": "ipython3",
   "version": "3.11.8"
  }
 },
 "nbformat": 4,
 "nbformat_minor": 2
}
